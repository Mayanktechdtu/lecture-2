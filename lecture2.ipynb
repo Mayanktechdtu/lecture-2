{
 "cells": [
  {
   "cell_type": "code",
   "execution_count": 2,
   "id": "f49dbc54-20eb-42fc-96b6-e07e337e5d9f",
   "metadata": {},
   "outputs": [
    {
     "data": {
      "text/plain": [
       "['mayank', 23, 78.67, (5+7j)]"
      ]
     },
     "execution_count": 2,
     "metadata": {},
     "output_type": "execute_result"
    }
   ],
   "source": [
    "a=[\"mayank\",23,78.67,5+7j]\n",
    "a"
   ]
  },
  {
   "cell_type": "code",
   "execution_count": 3,
   "id": "0c9f521b-e544-4933-a927-f74b631757b6",
   "metadata": {},
   "outputs": [
    {
     "data": {
      "text/plain": [
       "list"
      ]
     },
     "execution_count": 3,
     "metadata": {},
     "output_type": "execute_result"
    }
   ],
   "source": [
    "type(a)"
   ]
  },
  {
   "cell_type": "code",
   "execution_count": 4,
   "id": "f3e1ef7e-f685-4fca-a934-6018d3c593cc",
   "metadata": {},
   "outputs": [
    {
     "data": {
      "text/plain": [
       "78.67"
      ]
     },
     "execution_count": 4,
     "metadata": {},
     "output_type": "execute_result"
    }
   ],
   "source": [
    "a[2]"
   ]
  },
  {
   "cell_type": "code",
   "execution_count": 5,
   "id": "e1e4de9d-27be-445b-b811-a4ca121d3d62",
   "metadata": {},
   "outputs": [
    {
     "data": {
      "text/plain": [
       "'mayank'"
      ]
     },
     "execution_count": 5,
     "metadata": {},
     "output_type": "execute_result"
    }
   ],
   "source": [
    "a[0]"
   ]
  },
  {
   "cell_type": "code",
   "execution_count": 6,
   "id": "3be734e2-6b13-44db-b0b8-8ab72b2b0b8b",
   "metadata": {},
   "outputs": [
    {
     "data": {
      "text/plain": [
       "['mayank', 23, 78.67]"
      ]
     },
     "execution_count": 6,
     "metadata": {},
     "output_type": "execute_result"
    }
   ],
   "source": [
    "a[0:3]"
   ]
  },
  {
   "cell_type": "code",
   "execution_count": 7,
   "id": "9f0f4bc4-1862-4e31-8289-dd699c01501e",
   "metadata": {},
   "outputs": [
    {
     "data": {
      "text/plain": [
       "['mayank', 78.67]"
      ]
     },
     "execution_count": 7,
     "metadata": {},
     "output_type": "execute_result"
    }
   ],
   "source": [
    "a[::2]"
   ]
  },
  {
   "cell_type": "code",
   "execution_count": 8,
   "id": "3270b9af-6398-4a20-8468-8f693e0aac9b",
   "metadata": {},
   "outputs": [
    {
     "data": {
      "text/plain": [
       "[78.67, 23, 'mayank']"
      ]
     },
     "execution_count": 8,
     "metadata": {},
     "output_type": "execute_result"
    }
   ],
   "source": [
    "a[2::-1]"
   ]
  },
  {
   "cell_type": "code",
   "execution_count": 51,
   "id": "a1d80f6f-9528-4cc4-ad8b-f3e1c3976dad",
   "metadata": {},
   "outputs": [
    {
     "ename": "TypeError",
     "evalue": "can only concatenate list (not \"str\") to list",
     "output_type": "error",
     "traceback": [
      "\u001b[0;31m---------------------------------------------------------------------------\u001b[0m",
      "\u001b[0;31mTypeError\u001b[0m                                 Traceback (most recent call last)",
      "Cell \u001b[0;32mIn[51], line 2\u001b[0m\n\u001b[1;32m      1\u001b[0m b\u001b[38;5;241m=\u001b[39m\u001b[38;5;124m\"\u001b[39m\u001b[38;5;124mshahid\u001b[39m\u001b[38;5;124m\"\u001b[39m \u001b[38;5;66;03m#list and str cant add together as both diffrent \u001b[39;00m\n\u001b[0;32m----> 2\u001b[0m \u001b[43ma\u001b[49m\u001b[38;5;241;43m+\u001b[39;49m\u001b[43mb\u001b[49m\n",
      "\u001b[0;31mTypeError\u001b[0m: can only concatenate list (not \"str\") to list"
     ]
    }
   ],
   "source": [
    "b=\"shahid\" #list and str cant add together as both diffrent \n",
    "a+b"
   ]
  },
  {
   "cell_type": "code",
   "execution_count": 23,
   "id": "a6f45857-a347-4142-90c2-74884141aedd",
   "metadata": {},
   "outputs": [],
   "source": [
    "s=list(b)"
   ]
  },
  {
   "cell_type": "code",
   "execution_count": 27,
   "id": "d7bfe2e8-bc4b-4af2-90bb-f9eb3a9e166c",
   "metadata": {},
   "outputs": [
    {
     "data": {
      "text/plain": [
       "'mayank'"
      ]
     },
     "execution_count": 27,
     "metadata": {},
     "output_type": "execute_result"
    }
   ],
   "source": [
    "a[0]"
   ]
  },
  {
   "cell_type": "code",
   "execution_count": 29,
   "id": "7b0da3b6-5daf-4c98-b6fe-1d304cbea602",
   "metadata": {},
   "outputs": [
    {
     "data": {
      "text/plain": [
       "'may'"
      ]
     },
     "execution_count": 29,
     "metadata": {},
     "output_type": "execute_result"
    }
   ],
   "source": [
    "a[0][0:3] #from list we tk mayank and than slice"
   ]
  },
  {
   "cell_type": "code",
   "execution_count": 35,
   "id": "8abea338-1764-4372-990f-d216401c7136",
   "metadata": {},
   "outputs": [
    {
     "data": {
      "text/plain": [
       "['mayank',\n",
       " 23,\n",
       " 78.67,\n",
       " (5+7j),\n",
       " 'mayank',\n",
       " 23,\n",
       " 78.67,\n",
       " (5+7j),\n",
       " 'mayank',\n",
       " 23,\n",
       " 78.67,\n",
       " (5+7j)]"
      ]
     },
     "execution_count": 35,
     "metadata": {},
     "output_type": "execute_result"
    }
   ],
   "source": [
    "a*3"
   ]
  },
  {
   "cell_type": "code",
   "execution_count": 36,
   "id": "fd3d1789-6978-4300-bf82-8ec9eb344afe",
   "metadata": {},
   "outputs": [
    {
     "data": {
      "text/plain": [
       "4"
      ]
     },
     "execution_count": 36,
     "metadata": {},
     "output_type": "execute_result"
    }
   ],
   "source": [
    "len(a)"
   ]
  },
  {
   "cell_type": "code",
   "execution_count": 42,
   "id": "ad839953-acaf-4401-9e26-a881cd2abe02",
   "metadata": {},
   "outputs": [],
   "source": [
    "a.append(5) #to add int to list"
   ]
  },
  {
   "cell_type": "code",
   "execution_count": 45,
   "id": "394ee414-07b5-4e22-abd9-9b60c4940731",
   "metadata": {},
   "outputs": [
    {
     "data": {
      "text/plain": [
       "['ayus', 67, 56.89]"
      ]
     },
     "execution_count": 45,
     "metadata": {},
     "output_type": "execute_result"
    }
   ],
   "source": [
    "y=[\"ayus\",67,56.89]\n",
    "y"
   ]
  },
  {
   "cell_type": "code",
   "execution_count": 52,
   "id": "6f0e9925-e05d-4d7f-bedc-831e27655049",
   "metadata": {},
   "outputs": [
    {
     "data": {
      "text/plain": [
       "23"
      ]
     },
     "execution_count": 52,
     "metadata": {},
     "output_type": "execute_result"
    }
   ],
   "source": [
    "y.pop()"
   ]
  },
  {
   "cell_type": "code",
   "execution_count": null,
   "id": "f17fd9c8-6d5c-4da9-ae08-443ef2f0f8f9",
   "metadata": {},
   "outputs": [],
   "source": []
  }
 ],
 "metadata": {
  "kernelspec": {
   "display_name": "Python 3 (ipykernel)",
   "language": "python",
   "name": "python3"
  },
  "language_info": {
   "codemirror_mode": {
    "name": "ipython",
    "version": 3
   },
   "file_extension": ".py",
   "mimetype": "text/x-python",
   "name": "python",
   "nbconvert_exporter": "python",
   "pygments_lexer": "ipython3",
   "version": "3.10.8"
  }
 },
 "nbformat": 4,
 "nbformat_minor": 5
}
