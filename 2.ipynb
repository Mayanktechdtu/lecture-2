{
 "cells": [
  {
   "cell_type": "code",
   "execution_count": 1,
   "id": "74439ceb-fdea-4b5e-af9a-326613531249",
   "metadata": {
    "tags": []
   },
   "outputs": [],
   "source": [
    "a=[34,45,'ma']\n"
   ]
  },
  {
   "cell_type": "code",
   "execution_count": 6,
   "id": "79ad4a05-bc1f-4ad7-9e15-23ba2bfeda66",
   "metadata": {},
   "outputs": [],
   "source": [
    "b=[12,11,33,\"kayank\"]\n",
    "a.insert(-1,b) #this add whole list"
   ]
  },
  {
   "cell_type": "code",
   "execution_count": 8,
   "id": "7b9f5367-895e-4b1b-9065-e15e764afb53",
   "metadata": {},
   "outputs": [
    {
     "name": "stdout",
     "output_type": "stream",
     "text": [
      "[[12, 11, 33, 'kayank'], [12, 11, 33, 'kayank'], 34, 45, [12, 11, 33, 'kayank'], 'ma']\n"
     ]
    }
   ],
   "source": [
    "print(a)"
   ]
  },
  {
   "cell_type": "code",
   "execution_count": null,
   "id": "4bd11585-fd1e-40b9-9526-1d25ef17a376",
   "metadata": {},
   "outputs": [],
   "source": []
  }
 ],
 "metadata": {
  "kernelspec": {
   "display_name": "Python 3 (ipykernel)",
   "language": "python",
   "name": "python3"
  },
  "language_info": {
   "codemirror_mode": {
    "name": "ipython",
    "version": 3
   },
   "file_extension": ".py",
   "mimetype": "text/x-python",
   "name": "python",
   "nbconvert_exporter": "python",
   "pygments_lexer": "ipython3",
   "version": "3.10.8"
  }
 },
 "nbformat": 4,
 "nbformat_minor": 5
}
