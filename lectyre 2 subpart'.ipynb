{
 "cells": [
  {
   "cell_type": "code",
   "execution_count": 8,
   "id": "3241eb93-f933-4839-b3a9-7d4011ffe1e4",
   "metadata": {
    "tags": []
   },
   "outputs": [
    {
     "data": {
      "text/plain": [
       "[34, 45, 'ma']"
      ]
     },
     "execution_count": 8,
     "metadata": {},
     "output_type": "execute_result"
    }
   ],
   "source": [
    "a=[34,45,'ma']\n",
    "a"
   ]
  },
  {
   "cell_type": "code",
   "execution_count": 15,
   "id": "11e94871-c742-4c98-bccb-0dbe73280598",
   "metadata": {},
   "outputs": [],
   "source": [
    "b=[12,11,33,\"kayank\"]\n",
    "a.append(b) #this add whole list"
   ]
  },
  {
   "cell_type": "code",
   "execution_count": 16,
   "id": "cca625f7-8fb3-4421-8f3b-5e9ee1bcb369",
   "metadata": {},
   "outputs": [
    {
     "name": "stdout",
     "output_type": "stream",
     "text": [
      "[34, 45, 'ma', [12, 11, 33], 12, 11, 33, [12, 11, 33], 12, 11, 33, [12, 11, 33, 'kayank']]\n"
     ]
    }
   ],
   "source": [
    "print(a)"
   ]
  },
  {
   "cell_type": "code",
   "execution_count": 17,
   "id": "92454625-52af-43ae-98e3-80cfb73b59fc",
   "metadata": {},
   "outputs": [],
   "source": [
    "a.extend(b) #this add list by breaking"
   ]
  },
  {
   "cell_type": "code",
   "execution_count": 18,
   "id": "0c207178-f5ab-40ee-bb75-1d852b4c2e77",
   "metadata": {},
   "outputs": [
    {
     "name": "stdout",
     "output_type": "stream",
     "text": [
      "[34, 45, 'ma', [12, 11, 33], 12, 11, 33, [12, 11, 33], 12, 11, 33, [12, 11, 33, 'kayank'], 12, 11, 33, 'kayank']\n"
     ]
    }
   ],
   "source": [
    "print(a)"
   ]
  },
  {
   "cell_type": "code",
   "execution_count": null,
   "id": "10e9b041-14b0-4920-904a-2b41011132db",
   "metadata": {},
   "outputs": [],
   "source": []
  }
 ],
 "metadata": {
  "kernelspec": {
   "display_name": "Python 3 (ipykernel)",
   "language": "python",
   "name": "python3"
  },
  "language_info": {
   "codemirror_mode": {
    "name": "ipython",
    "version": 3
   },
   "file_extension": ".py",
   "mimetype": "text/x-python",
   "name": "python",
   "nbconvert_exporter": "python",
   "pygments_lexer": "ipython3",
   "version": "3.10.8"
  }
 },
 "nbformat": 4,
 "nbformat_minor": 5
}
