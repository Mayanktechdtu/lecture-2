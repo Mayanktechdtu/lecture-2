{
 "cells": [
  {
   "cell_type": "code",
   "execution_count": 17,
   "id": "6bca69a5-8080-46b7-88d4-ddc09a4bb396",
   "metadata": {},
   "outputs": [
    {
     "name": "stdout",
     "output_type": "stream",
     "text": [
      "[34, 56, 'maya', 'nna', 778, 80]\n"
     ]
    }
   ],
   "source": [
    "a=[34,56,\"maya\"]\n",
    "b=[\"nna\",778,80]\n",
    "c=a+b\n",
    "print(c)"
   ]
  },
  {
   "cell_type": "code",
   "execution_count": 21,
   "id": "debedcb8-834e-4064-aa93-bc244696c9e3",
   "metadata": {},
   "outputs": [
    {
     "data": {
      "text/plain": [
       "'nn'"
      ]
     },
     "execution_count": 21,
     "metadata": {},
     "output_type": "execute_result"
    }
   ],
   "source": [
    "c[-3][0:2]"
   ]
  },
  {
   "cell_type": "code",
   "execution_count": 20,
   "id": "31751d51-f4ec-46a9-b463-d6d91175ca5c",
   "metadata": {
    "tags": []
   },
   "outputs": [
    {
     "data": {
      "text/plain": [
       "34"
      ]
     },
     "execution_count": 20,
     "metadata": {},
     "output_type": "execute_result"
    }
   ],
   "source": [
    "c[0]"
   ]
  },
  {
   "cell_type": "code",
   "execution_count": 27,
   "id": "9b3603ed-51d0-43c2-92b6-71380844b8d0",
   "metadata": {},
   "outputs": [],
   "source": [
    "c.extend(\"may\")"
   ]
  },
  {
   "cell_type": "code",
   "execution_count": null,
   "id": "6a90570d-8738-4551-af3f-4174859bd8c1",
   "metadata": {},
   "outputs": [],
   "source": []
  }
 ],
 "metadata": {
  "kernelspec": {
   "display_name": "Python 3 (ipykernel)",
   "language": "python",
   "name": "python3"
  },
  "language_info": {
   "codemirror_mode": {
    "name": "ipython",
    "version": 3
   },
   "file_extension": ".py",
   "mimetype": "text/x-python",
   "name": "python",
   "nbconvert_exporter": "python",
   "pygments_lexer": "ipython3",
   "version": "3.10.8"
  }
 },
 "nbformat": 4,
 "nbformat_minor": 5
}
