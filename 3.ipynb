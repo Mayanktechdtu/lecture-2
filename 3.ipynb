{
 "cells": [
  {
   "cell_type": "code",
   "execution_count": 16,
   "id": "6ecb3c61-6b4f-4711-872f-4cd2da7888d8",
   "metadata": {
    "tags": []
   },
   "outputs": [],
   "source": [
    "a=[34,434,443,45,'ma']\n"
   ]
  },
  {
   "cell_type": "code",
   "execution_count": 17,
   "id": "02439399-4010-4fcd-b087-72fa8ee2e1a4",
   "metadata": {},
   "outputs": [
    {
     "data": {
      "text/plain": [
       "'ma'"
      ]
     },
     "execution_count": 17,
     "metadata": {},
     "output_type": "execute_result"
    }
   ],
   "source": [
    "a.pop()"
   ]
  },
  {
   "cell_type": "code",
   "execution_count": 18,
   "id": "ac833a53-9312-4eb1-a702-7296dda683ef",
   "metadata": {},
   "outputs": [
    {
     "data": {
      "text/plain": [
       "[34, 434, 443, 45]"
      ]
     },
     "execution_count": 18,
     "metadata": {},
     "output_type": "execute_result"
    }
   ],
   "source": [
    "a"
   ]
  },
  {
   "cell_type": "code",
   "execution_count": 19,
   "id": "f72bab37-de18-4d1e-9409-7c3f8f502303",
   "metadata": {},
   "outputs": [
    {
     "data": {
      "text/plain": [
       "34"
      ]
     },
     "execution_count": 19,
     "metadata": {},
     "output_type": "execute_result"
    }
   ],
   "source": [
    "a.pop(0)"
   ]
  },
  {
   "cell_type": "code",
   "execution_count": 20,
   "id": "8f6cf85d-639b-43ff-ad8c-a6e87f89b5d6",
   "metadata": {},
   "outputs": [
    {
     "data": {
      "text/plain": [
       "[434, 443, 45]"
      ]
     },
     "execution_count": 20,
     "metadata": {},
     "output_type": "execute_result"
    }
   ],
   "source": [
    "a"
   ]
  },
  {
   "cell_type": "code",
   "execution_count": 32,
   "id": "3afd3e14-6140-4719-a10c-f6a4cd300029",
   "metadata": {},
   "outputs": [],
   "source": [
    "m=[4,3,21,\"may\"]\n",
    "m.remove(\"may\")"
   ]
  },
  {
   "cell_type": "code",
   "execution_count": 34,
   "id": "792653f3-05c7-47b5-b50a-6cee084948e3",
   "metadata": {},
   "outputs": [
    {
     "data": {
      "text/plain": [
       "[4, 3, 21]"
      ]
     },
     "execution_count": 34,
     "metadata": {},
     "output_type": "execute_result"
    }
   ],
   "source": [
    "m"
   ]
  },
  {
   "cell_type": "code",
   "execution_count": 35,
   "id": "5526923a-6ae3-4942-8cc4-0e2b79d76936",
   "metadata": {},
   "outputs": [],
   "source": [
    "m.sort()"
   ]
  },
  {
   "cell_type": "code",
   "execution_count": 36,
   "id": "c5db7fc9-cb74-4390-a78a-3e629bc312fb",
   "metadata": {},
   "outputs": [
    {
     "data": {
      "text/plain": [
       "[3, 4, 21]"
      ]
     },
     "execution_count": 36,
     "metadata": {},
     "output_type": "execute_result"
    }
   ],
   "source": [
    "m"
   ]
  },
  {
   "cell_type": "code",
   "execution_count": 37,
   "id": "797c6440-aa31-4650-a189-5a94e1f68edd",
   "metadata": {},
   "outputs": [],
   "source": [
    "m.sort(reverse=True)"
   ]
  },
  {
   "cell_type": "code",
   "execution_count": 38,
   "id": "6f7b787e-7cba-4bcf-935e-63d61f057d2d",
   "metadata": {},
   "outputs": [
    {
     "data": {
      "text/plain": [
       "[21, 4, 3]"
      ]
     },
     "execution_count": 38,
     "metadata": {},
     "output_type": "execute_result"
    }
   ],
   "source": [
    "m"
   ]
  },
  {
   "cell_type": "code",
   "execution_count": 43,
   "id": "80f3fad3-4e2f-47e3-92a0-53943d5883d2",
   "metadata": {},
   "outputs": [
    {
     "ename": "TypeError",
     "evalue": "'str' object does not support item assignment",
     "output_type": "error",
     "traceback": [
      "\u001b[0;31m---------------------------------------------------------------------------\u001b[0m",
      "\u001b[0;31mTypeError\u001b[0m                                 Traceback (most recent call last)",
      "Cell \u001b[0;32mIn[43], line 2\u001b[0m\n\u001b[1;32m      1\u001b[0m s\u001b[38;5;241m=\u001b[39m\u001b[38;5;124m\"\u001b[39m\u001b[38;5;124mmayank\u001b[39m\u001b[38;5;124m\"\u001b[39m \u001b[38;5;66;03m#str is not mutable\u001b[39;00m\n\u001b[0;32m----> 2\u001b[0m \u001b[43ms\u001b[49m\u001b[43m[\u001b[49m\u001b[38;5;241;43m0\u001b[39;49m\u001b[43m]\u001b[49m\u001b[38;5;241m=\u001b[39m\u001b[38;5;124m\"\u001b[39m\u001b[38;5;124mk\u001b[39m\u001b[38;5;124m\"\u001b[39m\n",
      "\u001b[0;31mTypeError\u001b[0m: 'str' object does not support item assignment"
     ]
    }
   ],
   "source": [
    "s=\"mayank\" #str is not mutable\n",
    "s[0]=\"k\""
   ]
  },
  {
   "cell_type": "code",
   "execution_count": 50,
   "id": "3967ce49-5d27-487e-b8f9-1754fb0d724a",
   "metadata": {},
   "outputs": [],
   "source": [
    "n=[\"mayannnkk\",89] #list is mutable\n",
    "n[0]=\"ahh\""
   ]
  },
  {
   "cell_type": "code",
   "execution_count": null,
   "id": "a3a5d1e8-cd79-4f00-9aec-5781fd78a8b1",
   "metadata": {},
   "outputs": [],
   "source": []
  },
  {
   "cell_type": "code",
   "execution_count": 51,
   "id": "78ea43fd-41f5-4cce-9ad0-8d26d62b367d",
   "metadata": {},
   "outputs": [
    {
     "data": {
      "text/plain": [
       "['ahh', 89]"
      ]
     },
     "execution_count": 51,
     "metadata": {},
     "output_type": "execute_result"
    }
   ],
   "source": [
    "n"
   ]
  },
  {
   "cell_type": "code",
   "execution_count": 52,
   "id": "d1d51ec9-6804-4f38-899c-75969c5d9a59",
   "metadata": {},
   "outputs": [
    {
     "data": {
      "text/plain": [
       "'ahh'"
      ]
     },
     "execution_count": 52,
     "metadata": {},
     "output_type": "execute_result"
    }
   ],
   "source": [
    "n[0]"
   ]
  },
  {
   "cell_type": "code",
   "execution_count": 53,
   "id": "075c0af1-f7e5-4408-94d7-cca5620f7084",
   "metadata": {},
   "outputs": [
    {
     "data": {
      "text/plain": [
       "'h'"
      ]
     },
     "execution_count": 53,
     "metadata": {},
     "output_type": "execute_result"
    }
   ],
   "source": [
    "n[0][1]"
   ]
  },
  {
   "cell_type": "code",
   "execution_count": 54,
   "id": "d9d9f24b-f698-41cc-b5c8-fc42608dc949",
   "metadata": {},
   "outputs": [
    {
     "data": {
      "text/plain": [
       "'maaank'"
      ]
     },
     "execution_count": 54,
     "metadata": {},
     "output_type": "execute_result"
    }
   ],
   "source": [
    "s.replace(\"y\",\"a\") #this fnction chnge str"
   ]
  },
  {
   "cell_type": "code",
   "execution_count": 56,
   "id": "a40fa76e-6c7d-44a1-b961-03f9af98db50",
   "metadata": {},
   "outputs": [
    {
     "data": {
      "text/plain": [
       "'mayank'"
      ]
     },
     "execution_count": 56,
     "metadata": {},
     "output_type": "execute_result"
    }
   ],
   "source": [
    "s #original s not chnage by replace function is str"
   ]
  },
  {
   "cell_type": "code",
   "execution_count": 60,
   "id": "31bdd432-0f4a-4183-8eae-bab58a914f15",
   "metadata": {},
   "outputs": [],
   "source": [
    "## tuple\n",
    "# immutuabe\n"
   ]
  },
  {
   "cell_type": "code",
   "execution_count": 61,
   "id": "d50fdade-8784-4f51-9aa2-6dfb6b52c187",
   "metadata": {},
   "outputs": [
    {
     "data": {
      "text/plain": [
       "tuple"
      ]
     },
     "execution_count": 61,
     "metadata": {},
     "output_type": "execute_result"
    }
   ],
   "source": [
    "t=(67,45.56,\"mmm\",False,[3,4,5])\n",
    "type(t)"
   ]
  },
  {
   "cell_type": "code",
   "execution_count": 64,
   "id": "72b2f056-4d4d-4235-9013-e25f1fd4abd4",
   "metadata": {},
   "outputs": [
    {
     "ename": "TypeError",
     "evalue": "'tuple' object does not support item assignment",
     "output_type": "error",
     "traceback": [
      "\u001b[0;31m---------------------------------------------------------------------------\u001b[0m",
      "\u001b[0;31mTypeError\u001b[0m                                 Traceback (most recent call last)",
      "Cell \u001b[0;32mIn[64], line 1\u001b[0m\n\u001b[0;32m----> 1\u001b[0m a\u001b[38;5;241m=\u001b[39m\u001b[43mt\u001b[49m\u001b[43m[\u001b[49m\u001b[38;5;241;43m2\u001b[39;49m\u001b[43m]\u001b[49m\u001b[38;5;241m=\u001b[39m\u001b[38;5;241m23\u001b[39m \u001b[38;5;66;03m#immutable\u001b[39;00m\n",
      "\u001b[0;31mTypeError\u001b[0m: 'tuple' object does not support item assignment"
     ]
    }
   ],
   "source": [
    "t[2]=23 #immutable"
   ]
  },
  {
   "cell_type": "code",
   "execution_count": 65,
   "id": "f75606af-2576-4a73-b920-aa3e98ddd128",
   "metadata": {},
   "outputs": [
    {
     "data": {
      "text/plain": [
       "0"
      ]
     },
     "execution_count": 65,
     "metadata": {},
     "output_type": "execute_result"
    }
   ],
   "source": [
    "t.count(45)"
   ]
  },
  {
   "cell_type": "code",
   "execution_count": 66,
   "id": "fa465299-50cc-44c0-ae02-3b4d6293eda8",
   "metadata": {},
   "outputs": [
    {
     "data": {
      "text/plain": [
       "2"
      ]
     },
     "execution_count": 66,
     "metadata": {},
     "output_type": "execute_result"
    }
   ],
   "source": [
    "t.index(\"mmm\")"
   ]
  },
  {
   "cell_type": "code",
   "execution_count": 72,
   "id": "023fd4f3-dfbc-40d5-8d5a-079ab8e9cf6c",
   "metadata": {},
   "outputs": [
    {
     "ename": "TypeError",
     "evalue": "unhashable type: 'list'",
     "output_type": "error",
     "traceback": [
      "\u001b[0;31m---------------------------------------------------------------------------\u001b[0m",
      "\u001b[0;31mTypeError\u001b[0m                                 Traceback (most recent call last)",
      "Cell \u001b[0;32mIn[72], line 2\u001b[0m\n\u001b[1;32m      1\u001b[0m \u001b[38;5;66;03m##set\u001b[39;00m\n\u001b[0;32m----> 2\u001b[0m u\u001b[38;5;241m=\u001b[39m{\u001b[38;5;241m23\u001b[39m,\u001b[38;5;241m45\u001b[39m,\u001b[38;5;124m\"\u001b[39m\u001b[38;5;124mSds\u001b[39m\u001b[38;5;124m\"\u001b[39m,(\u001b[38;5;241m5\u001b[39m,\u001b[38;5;241m6\u001b[39m,\u001b[38;5;241m66\u001b[39m),[\u001b[38;5;241m33\u001b[39m]} \u001b[38;5;66;03m#in set list is not allowed as its list is mutable\u001b[39;00m\n\u001b[1;32m      3\u001b[0m \u001b[38;5;28mtype\u001b[39m(u)\n",
      "\u001b[0;31mTypeError\u001b[0m: unhashable type: 'list'"
     ]
    }
   ],
   "source": [
    "##set is also immutable\n",
    "u={23,45,\"Sds\",(5,6,66),[33]} #in set list is not allowed as its list is mutable\n",
    "type(u)"
   ]
  },
  {
   "cell_type": "code",
   "execution_count": 71,
   "id": "bbf11067-af91-4bcc-8032-18edd1d69ce9",
   "metadata": {},
   "outputs": [
    {
     "data": {
      "text/plain": [
       "dict"
      ]
     },
     "execution_count": 71,
     "metadata": {},
     "output_type": "execute_result"
    }
   ],
   "source": [
    "o={} #empty curly is dict\n",
    "type(o)"
   ]
  },
  {
   "cell_type": "code",
   "execution_count": 82,
   "id": "c64f4b7f-1e29-409c-867d-e0f98b78c15a",
   "metadata": {},
   "outputs": [
    {
     "data": {
      "text/plain": [
       "{2, 3, 4, 5, 6, 34, 43}"
      ]
     },
     "execution_count": 82,
     "metadata": {},
     "output_type": "execute_result"
    }
   ],
   "source": [
    "s4={4,5,6,5,4,3,4,34,34,4,2,43}\n",
    "s4 #it gives unique values only"
   ]
  },
  {
   "cell_type": "code",
   "execution_count": 83,
   "id": "d0e4800e-be2e-4b7d-a136-ca05cb0326af",
   "metadata": {},
   "outputs": [
    {
     "data": {
      "text/plain": [
       "{3, 4, 5, 33, 42}"
      ]
     },
     "execution_count": 83,
     "metadata": {},
     "output_type": "execute_result"
    }
   ],
   "source": [
    "l=[3,4,4,3,4,3,4,3,4,4,5,5,3,33,42]\n",
    "set(l) #only unique"
   ]
  },
  {
   "cell_type": "code",
   "execution_count": 84,
   "id": "c9a288c0-f36b-4a54-97c3-b79a477678b0",
   "metadata": {},
   "outputs": [],
   "source": [
    "#incase of set slicing nd indexing not ossible"
   ]
  },
  {
   "cell_type": "code",
   "execution_count": 85,
   "id": "24e1b742-0320-4ade-b1bc-6123c08b0e77",
   "metadata": {},
   "outputs": [],
   "source": [
    "s4.remove(5)"
   ]
  },
  {
   "cell_type": "code",
   "execution_count": 86,
   "id": "8ebb149b-0160-492b-a380-05c8df76c8d5",
   "metadata": {},
   "outputs": [
    {
     "data": {
      "text/plain": [
       "{2, 3, 4, 6, 34, 43}"
      ]
     },
     "execution_count": 86,
     "metadata": {},
     "output_type": "execute_result"
    }
   ],
   "source": [
    "s4"
   ]
  },
  {
   "cell_type": "code",
   "execution_count": null,
   "id": "47ebd2ea-a401-4f55-a040-cc0dd6ed2532",
   "metadata": {},
   "outputs": [],
   "source": []
  }
 ],
 "metadata": {
  "kernelspec": {
   "display_name": "Python 3 (ipykernel)",
   "language": "python",
   "name": "python3"
  },
  "language_info": {
   "codemirror_mode": {
    "name": "ipython",
    "version": 3
   },
   "file_extension": ".py",
   "mimetype": "text/x-python",
   "name": "python",
   "nbconvert_exporter": "python",
   "pygments_lexer": "ipython3",
   "version": "3.10.8"
  }
 },
 "nbformat": 4,
 "nbformat_minor": 5
}
